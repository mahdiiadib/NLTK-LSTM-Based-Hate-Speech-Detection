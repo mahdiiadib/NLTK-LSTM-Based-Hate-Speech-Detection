{
  "cells": [
    {
      "cell_type": "markdown",
      "metadata": {
        "colab_type": "text",
        "id": "view-in-github"
      },
      "source": [
        "<a href=\"https://colab.research.google.com/github/shakil1819/NLTK-LSTM-Based-Hate-Speech-Detection/blob/main/LSTM_Twitter_dataset.ipynb\" target=\"_parent\"><img src=\"https://colab.research.google.com/assets/colab-badge.svg\" alt=\"Open In Colab\"/></a>"
      ]
    },
    {
      "cell_type": "markdown",
      "id": "3bae601b",
      "metadata": {
        "id": "3bae601b",
        "papermill": {
          "duration": 0.008477,
          "end_time": "2022-07-01T00:26:27.217820",
          "exception": false,
          "start_time": "2022-07-01T00:26:27.209343",
          "status": "completed"
        },
        "tags": []
      },
      "source": [
        "# Imorting Libraries"
      ]
    },
    {
      "cell_type": "code",
      "execution_count": 1,
      "id": "984c7070",
      "metadata": {
        "execution": {
          "iopub.execute_input": "2022-07-01T00:26:27.236077Z",
          "iopub.status.busy": "2022-07-01T00:26:27.235427Z",
          "iopub.status.idle": "2022-07-01T00:26:33.768998Z",
          "shell.execute_reply": "2022-07-01T00:26:33.768170Z"
        },
        "id": "984c7070",
        "papermill": {
          "duration": 6.544879,
          "end_time": "2022-07-01T00:26:33.771061",
          "exception": false,
          "start_time": "2022-07-01T00:26:27.226182",
          "status": "completed"
        },
        "tags": []
      },
      "outputs": [],
      "source": [
        "import os\n",
        "import numpy as np\n",
        "import pandas as pd\n",
        "from sklearn.preprocessing import LabelEncoder\n",
        "import nltk\n",
        "import re\n",
        "from nltk.stem import PorterStemmer\n",
        "from nltk.corpus import stopwords\n",
        "from sklearn.model_selection import train_test_split\n",
        "from sklearn.feature_extraction.text import CountVectorizer\n",
        "from sklearn.naive_bayes import MultinomialNB\n",
        "from sklearn.metrics import accuracy_score\n",
        "from sklearn.metrics import confusion_matrix\n",
        "import matplotlib.pyplot as plt\n",
        "import seaborn as sns\n",
        "from nltk.stem import WordNetLemmatizer\n",
        "import itertools\n",
        "from wordcloud import WordCloud\n",
        "from sklearn.ensemble import RandomForestClassifier\n",
        "from sklearn import tree\n",
        "from sklearn.ensemble import AdaBoostClassifier\n",
        "from sklearn.neighbors import KNeighborsClassifier\n",
        "from sklearn.svm import SVC\n",
        "from keras.models import Sequential,Model\n",
        "from keras.layers import Dense,LSTM, SpatialDropout1D, Embedding\n",
        "from tensorflow.keras import utils\n",
        "from tensorflow.keras.utils import to_categorical\n",
        "from joblib import dump, load"
      ]
    },
    {
      "cell_type": "markdown",
      "id": "e18f917f",
      "metadata": {
        "id": "e18f917f",
        "papermill": {
          "duration": 0.006906,
          "end_time": "2022-07-01T00:26:33.785326",
          "exception": false,
          "start_time": "2022-07-01T00:26:33.778420",
          "status": "completed"
        },
        "tags": []
      },
      "source": [
        "# Reading the dataset"
      ]
    },
    {
      "cell_type": "code",
      "execution_count": 2,
      "id": "fbd4a653",
      "metadata": {
        "colab": {
          "base_uri": "https://localhost:8080/",
          "height": 206
        },
        "execution": {
          "iopub.execute_input": "2022-07-01T00:26:33.801293Z",
          "iopub.status.busy": "2022-07-01T00:26:33.800700Z",
          "iopub.status.idle": "2022-07-01T00:26:33.871976Z",
          "shell.execute_reply": "2022-07-01T00:26:33.871221Z"
        },
        "id": "fbd4a653",
        "outputId": "4ce5e3af-b5d0-453b-95a6-0c9608344dd6",
        "papermill": {
          "duration": 0.081746,
          "end_time": "2022-07-01T00:26:33.874035",
          "exception": false,
          "start_time": "2022-07-01T00:26:33.792289",
          "status": "completed"
        },
        "tags": []
      },
      "outputs": [
        {
          "data": {
            "text/html": [
              "<div>\n",
              "<style scoped>\n",
              "    .dataframe tbody tr th:only-of-type {\n",
              "        vertical-align: middle;\n",
              "    }\n",
              "\n",
              "    .dataframe tbody tr th {\n",
              "        vertical-align: top;\n",
              "    }\n",
              "\n",
              "    .dataframe thead th {\n",
              "        text-align: right;\n",
              "    }\n",
              "</style>\n",
              "<table border=\"1\" class=\"dataframe\">\n",
              "  <thead>\n",
              "    <tr style=\"text-align: right;\">\n",
              "      <th></th>\n",
              "      <th>Unnamed: 0</th>\n",
              "      <th>count</th>\n",
              "      <th>hate_speech</th>\n",
              "      <th>offensive_language</th>\n",
              "      <th>neither</th>\n",
              "      <th>class</th>\n",
              "      <th>tweet</th>\n",
              "    </tr>\n",
              "  </thead>\n",
              "  <tbody>\n",
              "    <tr>\n",
              "      <th>0</th>\n",
              "      <td>0</td>\n",
              "      <td>3</td>\n",
              "      <td>0</td>\n",
              "      <td>0</td>\n",
              "      <td>3</td>\n",
              "      <td>2</td>\n",
              "      <td>!!! RT @mayasolovely: As a woman you shouldn't...</td>\n",
              "    </tr>\n",
              "    <tr>\n",
              "      <th>1</th>\n",
              "      <td>1</td>\n",
              "      <td>3</td>\n",
              "      <td>0</td>\n",
              "      <td>3</td>\n",
              "      <td>0</td>\n",
              "      <td>1</td>\n",
              "      <td>!!!!! RT @mleew17: boy dats cold...tyga dwn ba...</td>\n",
              "    </tr>\n",
              "    <tr>\n",
              "      <th>2</th>\n",
              "      <td>2</td>\n",
              "      <td>3</td>\n",
              "      <td>0</td>\n",
              "      <td>3</td>\n",
              "      <td>0</td>\n",
              "      <td>1</td>\n",
              "      <td>!!!!!!! RT @UrKindOfBrand Dawg!!!! RT @80sbaby...</td>\n",
              "    </tr>\n",
              "    <tr>\n",
              "      <th>3</th>\n",
              "      <td>3</td>\n",
              "      <td>3</td>\n",
              "      <td>0</td>\n",
              "      <td>2</td>\n",
              "      <td>1</td>\n",
              "      <td>1</td>\n",
              "      <td>!!!!!!!!! RT @C_G_Anderson: @viva_based she lo...</td>\n",
              "    </tr>\n",
              "    <tr>\n",
              "      <th>4</th>\n",
              "      <td>4</td>\n",
              "      <td>6</td>\n",
              "      <td>0</td>\n",
              "      <td>6</td>\n",
              "      <td>0</td>\n",
              "      <td>1</td>\n",
              "      <td>!!!!!!!!!!!!! RT @ShenikaRoberts: The shit you...</td>\n",
              "    </tr>\n",
              "  </tbody>\n",
              "</table>\n",
              "</div>"
            ],
            "text/plain": [
              "   Unnamed: 0  count  hate_speech  offensive_language  neither  class  \\\n",
              "0           0      3            0                   0        3      2   \n",
              "1           1      3            0                   3        0      1   \n",
              "2           2      3            0                   3        0      1   \n",
              "3           3      3            0                   2        1      1   \n",
              "4           4      6            0                   6        0      1   \n",
              "\n",
              "                                               tweet  \n",
              "0  !!! RT @mayasolovely: As a woman you shouldn't...  \n",
              "1  !!!!! RT @mleew17: boy dats cold...tyga dwn ba...  \n",
              "2  !!!!!!! RT @UrKindOfBrand Dawg!!!! RT @80sbaby...  \n",
              "3  !!!!!!!!! RT @C_G_Anderson: @viva_based she lo...  \n",
              "4  !!!!!!!!!!!!! RT @ShenikaRoberts: The shit you...  "
            ]
          },
          "execution_count": 2,
          "metadata": {},
          "output_type": "execute_result"
        }
      ],
      "source": [
        "text = []\n",
        "clas = []\n",
        "df = pd.read_csv('https://raw.githubusercontent.com/shakil1819/NLTK-LSTM-Based-Hate-Speech-Detection/main/Dataset/labeled_data.csv')\n",
        "text = df['tweet'].tolist()\n",
        "clas = df['class'].tolist()\n",
        "df.head()"
      ]
    },
    {
      "cell_type": "markdown",
      "id": "0eb13911",
      "metadata": {
        "id": "0eb13911",
        "papermill": {
          "duration": 0.006933,
          "end_time": "2022-07-01T00:26:33.888255",
          "exception": false,
          "start_time": "2022-07-01T00:26:33.881322",
          "status": "completed"
        },
        "tags": []
      },
      "source": [
        "# creating a new dataframe for easy text processing"
      ]
    },
    {
      "cell_type": "code",
      "execution_count": 3,
      "id": "9e66a7b3",
      "metadata": {
        "execution": {
          "iopub.execute_input": "2022-07-01T00:26:33.903420Z",
          "iopub.status.busy": "2022-07-01T00:26:33.903010Z",
          "iopub.status.idle": "2022-07-01T00:26:33.919604Z",
          "shell.execute_reply": "2022-07-01T00:26:33.918955Z"
        },
        "id": "9e66a7b3",
        "papermill": {
          "duration": 0.02653,
          "end_time": "2022-07-01T00:26:33.921737",
          "exception": false,
          "start_time": "2022-07-01T00:26:33.895207",
          "status": "completed"
        },
        "tags": []
      },
      "outputs": [],
      "source": [
        "df = pd.DataFrame({'tweet': text, 'class': clas})"
      ]
    },
    {
      "cell_type": "markdown",
      "id": "d69a4656",
      "metadata": {
        "id": "d69a4656",
        "papermill": {
          "duration": 0.006831,
          "end_time": "2022-07-01T00:26:33.935973",
          "exception": false,
          "start_time": "2022-07-01T00:26:33.929142",
          "status": "completed"
        },
        "tags": []
      },
      "source": [
        "# Finding if there is any missing data"
      ]
    },
    {
      "cell_type": "code",
      "execution_count": 4,
      "id": "05987d7a",
      "metadata": {
        "colab": {
          "base_uri": "https://localhost:8080/"
        },
        "execution": {
          "iopub.execute_input": "2022-07-01T00:26:33.951085Z",
          "iopub.status.busy": "2022-07-01T00:26:33.950790Z",
          "iopub.status.idle": "2022-07-01T00:26:33.959709Z",
          "shell.execute_reply": "2022-07-01T00:26:33.958998Z"
        },
        "id": "05987d7a",
        "outputId": "c4b203e2-888a-46e9-e60d-8a9bc8762233",
        "papermill": {
          "duration": 0.019269,
          "end_time": "2022-07-01T00:26:33.962268",
          "exception": false,
          "start_time": "2022-07-01T00:26:33.942999",
          "status": "completed"
        },
        "tags": []
      },
      "outputs": [
        {
          "name": "stdout",
          "output_type": "stream",
          "text": [
            "tweet    0\n",
            "class    0\n",
            "dtype: int64\n"
          ]
        }
      ],
      "source": [
        "print(df.isnull().sum())"
      ]
    },
    {
      "cell_type": "markdown",
      "id": "8a6379b9",
      "metadata": {
        "id": "8a6379b9",
        "papermill": {
          "duration": 0.007565,
          "end_time": "2022-07-01T00:26:33.977744",
          "exception": false,
          "start_time": "2022-07-01T00:26:33.970179",
          "status": "completed"
        },
        "tags": []
      },
      "source": [
        "# Converting the data into lower case."
      ]
    },
    {
      "cell_type": "code",
      "execution_count": 5,
      "id": "f4541358",
      "metadata": {
        "execution": {
          "iopub.execute_input": "2022-07-01T00:26:33.994061Z",
          "iopub.status.busy": "2022-07-01T00:26:33.992693Z",
          "iopub.status.idle": "2022-07-01T00:26:34.008633Z",
          "shell.execute_reply": "2022-07-01T00:26:34.007788Z"
        },
        "id": "f4541358",
        "papermill": {
          "duration": 0.025555,
          "end_time": "2022-07-01T00:26:34.010351",
          "exception": false,
          "start_time": "2022-07-01T00:26:33.984796",
          "status": "completed"
        },
        "tags": []
      },
      "outputs": [],
      "source": [
        "df['tweet'] = df['tweet'].apply(lambda x:x.lower())"
      ]
    },
    {
      "cell_type": "markdown",
      "id": "8995939c",
      "metadata": {
        "id": "8995939c",
        "papermill": {
          "duration": 0.006871,
          "end_time": "2022-07-01T00:26:34.024547",
          "exception": false,
          "start_time": "2022-07-01T00:26:34.017676",
          "status": "completed"
        },
        "tags": []
      },
      "source": [
        "# removing punctuations"
      ]
    },
    {
      "cell_type": "code",
      "execution_count": 6,
      "id": "99d89b57",
      "metadata": {
        "colab": {
          "base_uri": "https://localhost:8080/"
        },
        "execution": {
          "iopub.execute_input": "2022-07-01T00:26:34.040137Z",
          "iopub.status.busy": "2022-07-01T00:26:34.039596Z",
          "iopub.status.idle": "2022-07-01T00:26:34.150959Z",
          "shell.execute_reply": "2022-07-01T00:26:34.149194Z"
        },
        "id": "99d89b57",
        "outputId": "425b2a8a-aa44-412d-bab9-d28a2550d6ce",
        "papermill": {
          "duration": 0.12169,
          "end_time": "2022-07-01T00:26:34.153261",
          "exception": false,
          "start_time": "2022-07-01T00:26:34.031571",
          "status": "completed"
        },
        "tags": []
      },
      "outputs": [
        {
          "name": "stderr",
          "output_type": "stream",
          "text": [
            "C:\\Users\\USER\\AppData\\Local\\Temp\\ipykernel_11936\\958571737.py:5: FutureWarning: The default value of regex will change from True to False in a future version. In addition, single character regular expressions will *not* be treated as literal strings when regex=True.\n",
            "  df['tweet'] = df['tweet'].str.replace(punct_sign, '')\n"
          ]
        }
      ],
      "source": [
        "punctuation_signs = list(\"?:!.,;\")\n",
        "df['tweet'] = df['tweet']\n",
        "\n",
        "for punct_sign in punctuation_signs:\n",
        "    df['tweet'] = df['tweet'].str.replace(punct_sign, '')"
      ]
    },
    {
      "cell_type": "markdown",
      "id": "bb7e6227",
      "metadata": {
        "id": "bb7e6227",
        "papermill": {
          "duration": 0.007011,
          "end_time": "2022-07-01T00:26:34.168396",
          "exception": false,
          "start_time": "2022-07-01T00:26:34.161385",
          "status": "completed"
        },
        "tags": []
      },
      "source": [
        "# Removing '\\n' and '\\t', extra spaces, quoting text, and progressive pronouns."
      ]
    },
    {
      "cell_type": "code",
      "execution_count": 7,
      "id": "b6b5ff27",
      "metadata": {
        "execution": {
          "iopub.execute_input": "2022-07-01T00:26:34.184028Z",
          "iopub.status.busy": "2022-07-01T00:26:34.183721Z",
          "iopub.status.idle": "2022-07-01T00:26:34.264194Z",
          "shell.execute_reply": "2022-07-01T00:26:34.263460Z"
        },
        "id": "b6b5ff27",
        "papermill": {
          "duration": 0.089968,
          "end_time": "2022-07-01T00:26:34.265869",
          "exception": false,
          "start_time": "2022-07-01T00:26:34.175901",
          "status": "completed"
        },
        "tags": []
      },
      "outputs": [],
      "source": [
        "df['tweet'] = df['tweet'].apply(lambda x: x.replace('\\n', ' '))\n",
        "df['tweet'] = df['tweet'].apply(lambda x: x.replace('\\t', ' '))\n",
        "df['tweet'] = df['tweet'].str.replace(\"    \", \" \")\n",
        "df['tweet'] = df['tweet'].str.replace('\"', '')\n",
        "df['tweet'] = df['tweet'].str.replace(\"'s\", \"\")"
      ]
    },
    {
      "cell_type": "markdown",
      "id": "bddc825c",
      "metadata": {
        "id": "bddc825c",
        "papermill": {
          "duration": 0.006982,
          "end_time": "2022-07-01T00:26:34.279971",
          "exception": false,
          "start_time": "2022-07-01T00:26:34.272989",
          "status": "completed"
        },
        "tags": []
      },
      "source": [
        "# removing stop-words"
      ]
    },
    {
      "cell_type": "code",
      "execution_count": 8,
      "id": "1ed0efb9",
      "metadata": {
        "colab": {
          "base_uri": "https://localhost:8080/"
        },
        "execution": {
          "iopub.execute_input": "2022-07-01T00:26:34.295591Z",
          "iopub.status.busy": "2022-07-01T00:26:34.295199Z",
          "iopub.status.idle": "2022-07-01T00:26:48.340358Z",
          "shell.execute_reply": "2022-07-01T00:26:48.339533Z"
        },
        "id": "1ed0efb9",
        "outputId": "60879020-0846-4300-ba99-2918f07bb5d9",
        "papermill": {
          "duration": 14.055339,
          "end_time": "2022-07-01T00:26:48.342405",
          "exception": false,
          "start_time": "2022-07-01T00:26:34.287066",
          "status": "completed"
        },
        "tags": []
      },
      "outputs": [
        {
          "name": "stderr",
          "output_type": "stream",
          "text": [
            "[nltk_data] Downloading package stopwords to\n",
            "[nltk_data]     C:\\Users\\USER\\AppData\\Roaming\\nltk_data...\n",
            "[nltk_data]   Package stopwords is already up-to-date!\n",
            "C:\\Users\\USER\\AppData\\Local\\Temp\\ipykernel_11936\\1953869578.py:5: FutureWarning: The default value of regex will change from True to False in a future version.\n",
            "  df['tweet'] = df['tweet'].str.replace(regex_stopword, '')\n"
          ]
        }
      ],
      "source": [
        "nltk.download('stopwords')\n",
        "stop_words = list(stopwords.words('english'))\n",
        "for stop_word in stop_words:\n",
        "    regex_stopword = r\"\\b\" + stop_word + r\"\\b\"\n",
        "    df['tweet'] = df['tweet'].str.replace(regex_stopword, '')"
      ]
    },
    {
      "cell_type": "markdown",
      "id": "991ba24e",
      "metadata": {
        "id": "991ba24e",
        "papermill": {
          "duration": 0.007169,
          "end_time": "2022-07-01T00:26:48.357745",
          "exception": false,
          "start_time": "2022-07-01T00:26:48.350576",
          "status": "completed"
        },
        "tags": []
      },
      "source": [
        "# Using Bag of Words approach for final data Preparation"
      ]
    },
    {
      "cell_type": "code",
      "execution_count": 9,
      "id": "ee9e94c1",
      "metadata": {
        "execution": {
          "iopub.execute_input": "2022-07-01T00:26:48.373967Z",
          "iopub.status.busy": "2022-07-01T00:26:48.373640Z",
          "iopub.status.idle": "2022-07-01T00:26:48.769275Z",
          "shell.execute_reply": "2022-07-01T00:26:48.768450Z"
        },
        "id": "ee9e94c1",
        "papermill": {
          "duration": 0.406168,
          "end_time": "2022-07-01T00:26:48.771450",
          "exception": false,
          "start_time": "2022-07-01T00:26:48.365282",
          "status": "completed"
        },
        "tags": []
      },
      "outputs": [],
      "source": [
        "cv = CountVectorizer(max_features = 75)\n",
        "X = cv.fit_transform(df['tweet']).toarray()\n",
        "y = df['class']"
      ]
    },
    {
      "cell_type": "markdown",
      "id": "63c36ad8",
      "metadata": {
        "id": "63c36ad8",
        "papermill": {
          "duration": 0.007788,
          "end_time": "2022-07-01T00:26:48.786969",
          "exception": false,
          "start_time": "2022-07-01T00:26:48.779181",
          "status": "completed"
        },
        "tags": []
      },
      "source": [
        "# Splitting the Data using Stratified split"
      ]
    },
    {
      "cell_type": "code",
      "execution_count": 10,
      "id": "e367c525",
      "metadata": {
        "execution": {
          "iopub.execute_input": "2022-07-01T00:26:48.803201Z",
          "iopub.status.busy": "2022-07-01T00:26:48.802306Z",
          "iopub.status.idle": "2022-07-01T00:26:48.827422Z",
          "shell.execute_reply": "2022-07-01T00:26:48.826600Z"
        },
        "id": "e367c525",
        "papermill": {
          "duration": 0.035194,
          "end_time": "2022-07-01T00:26:48.829419",
          "exception": false,
          "start_time": "2022-07-01T00:26:48.794225",
          "status": "completed"
        },
        "tags": []
      },
      "outputs": [],
      "source": [
        "X_train, X_test, y_train, y_test = train_test_split(X, y, test_size = 0.3, stratify=y, random_state = 42)"
      ]
    },
    {
      "cell_type": "markdown",
      "id": "17a02bff",
      "metadata": {
        "id": "17a02bff",
        "papermill": {
          "duration": 0.013715,
          "end_time": "2022-07-01T00:26:51.857360",
          "exception": false,
          "start_time": "2022-07-01T00:26:51.843645",
          "status": "completed"
        },
        "tags": []
      },
      "source": [
        "# Converting the labels into categorical format"
      ]
    },
    {
      "cell_type": "code",
      "execution_count": 11,
      "id": "6150ad04",
      "metadata": {
        "execution": {
          "iopub.execute_input": "2022-07-01T00:26:51.887130Z",
          "iopub.status.busy": "2022-07-01T00:26:51.886636Z",
          "iopub.status.idle": "2022-07-01T00:26:51.892147Z",
          "shell.execute_reply": "2022-07-01T00:26:51.891473Z"
        },
        "id": "6150ad04",
        "papermill": {
          "duration": 0.024112,
          "end_time": "2022-07-01T00:26:51.895421",
          "exception": false,
          "start_time": "2022-07-01T00:26:51.871309",
          "status": "completed"
        },
        "tags": []
      },
      "outputs": [],
      "source": [
        "y_train=to_categorical(y_train, num_classes = 3, dtype='float32')\n",
        "y_test=to_categorical(y_test, num_classes = 3, dtype='float32')"
      ]
    },
    {
      "cell_type": "markdown",
      "id": "d5dbdb7f",
      "metadata": {
        "id": "d5dbdb7f",
        "papermill": {
          "duration": 0.013761,
          "end_time": "2022-07-01T00:26:51.923816",
          "exception": false,
          "start_time": "2022-07-01T00:26:51.910055",
          "status": "completed"
        },
        "tags": []
      },
      "source": [
        "# Creating and Training an LSTM Model"
      ]
    },
    {
      "cell_type": "code",
      "execution_count": 16,
      "id": "e0a8237a",
      "metadata": {
        "colab": {
          "base_uri": "https://localhost:8080/"
        },
        "execution": {
          "iopub.execute_input": "2022-07-01T00:26:51.953542Z",
          "iopub.status.busy": "2022-07-01T00:26:51.953019Z",
          "iopub.status.idle": "2022-07-01T01:04:18.930918Z",
          "shell.execute_reply": "2022-07-01T01:04:18.930056Z"
        },
        "id": "e0a8237a",
        "outputId": "bb875974-c1f2-4896-fb94-3089890a2b39",
        "papermill": {
          "duration": 2246.995481,
          "end_time": "2022-07-01T01:04:18.933124",
          "exception": false,
          "start_time": "2022-07-01T00:26:51.937643",
          "status": "completed"
        },
        "tags": []
      },
      "outputs": [
        {
          "name": "stdout",
          "output_type": "stream",
          "text": [
            "Epoch 1/25\n",
            "272/272 [==============================] - 46s 163ms/step - loss: 0.4293 - accuracy: 0.7676 - val_loss: 0.4022 - val_accuracy: 0.7743\n",
            "Epoch 2/25\n",
            "272/272 [==============================] - 44s 162ms/step - loss: 0.4021 - accuracy: 0.7743 - val_loss: 0.4015 - val_accuracy: 0.7743\n",
            "Epoch 3/25\n",
            "272/272 [==============================] - 44s 161ms/step - loss: 0.4015 - accuracy: 0.7743 - val_loss: 0.4008 - val_accuracy: 0.7743\n",
            "Epoch 4/25\n",
            "272/272 [==============================] - 44s 162ms/step - loss: 0.4010 - accuracy: 0.7743 - val_loss: 0.3997 - val_accuracy: 0.7743\n",
            "Epoch 5/25\n",
            "272/272 [==============================] - 44s 161ms/step - loss: 0.3971 - accuracy: 0.7743 - val_loss: 0.3911 - val_accuracy: 0.7743\n",
            "Epoch 6/25\n",
            "272/272 [==============================] - 44s 162ms/step - loss: 0.3926 - accuracy: 0.7743 - val_loss: 0.3901 - val_accuracy: 0.7743\n",
            "Epoch 7/25\n",
            "272/272 [==============================] - 44s 161ms/step - loss: 0.3901 - accuracy: 0.7745 - val_loss: 0.3710 - val_accuracy: 0.7743\n",
            "Epoch 8/25\n",
            "272/272 [==============================] - 44s 162ms/step - loss: 0.3848 - accuracy: 0.7755 - val_loss: 0.3697 - val_accuracy: 0.7818\n",
            "Epoch 9/25\n",
            "272/272 [==============================] - 44s 162ms/step - loss: 0.3630 - accuracy: 0.7876 - val_loss: 0.3498 - val_accuracy: 0.7973\n",
            "Epoch 10/25\n",
            "272/272 [==============================] - 44s 161ms/step - loss: 0.3533 - accuracy: 0.7857 - val_loss: 0.3460 - val_accuracy: 0.7927\n",
            "Epoch 11/25\n",
            "272/272 [==============================] - 44s 161ms/step - loss: 0.3457 - accuracy: 0.7912 - val_loss: 0.3344 - val_accuracy: 0.7984\n",
            "Epoch 12/25\n",
            "272/272 [==============================] - 45s 164ms/step - loss: 0.3402 - accuracy: 0.7910 - val_loss: 0.3333 - val_accuracy: 0.8035\n",
            "Epoch 13/25\n",
            "272/272 [==============================] - 45s 166ms/step - loss: 0.3465 - accuracy: 0.7896 - val_loss: 0.3542 - val_accuracy: 0.7905\n",
            "Epoch 14/25\n",
            "272/272 [==============================] - 46s 168ms/step - loss: 0.3504 - accuracy: 0.7942 - val_loss: 0.3477 - val_accuracy: 0.7965\n",
            "Epoch 15/25\n",
            "272/272 [==============================] - 45s 165ms/step - loss: 0.3416 - accuracy: 0.7918 - val_loss: 0.3279 - val_accuracy: 0.8011\n",
            "Epoch 16/25\n",
            "272/272 [==============================] - 45s 166ms/step - loss: 0.3299 - accuracy: 0.7992 - val_loss: 0.3268 - val_accuracy: 0.8000\n",
            "Epoch 17/25\n",
            "272/272 [==============================] - 45s 165ms/step - loss: 0.3293 - accuracy: 0.7978 - val_loss: 0.3233 - val_accuracy: 0.8011\n",
            "Epoch 18/25\n",
            "272/272 [==============================] - 45s 165ms/step - loss: 0.3256 - accuracy: 0.8014 - val_loss: 0.3220 - val_accuracy: 0.8000\n",
            "Epoch 19/25\n",
            "272/272 [==============================] - 45s 166ms/step - loss: 0.3245 - accuracy: 0.8013 - val_loss: 0.3191 - val_accuracy: 0.7993\n",
            "Epoch 20/25\n",
            "272/272 [==============================] - 45s 166ms/step - loss: 0.3246 - accuracy: 0.8009 - val_loss: 0.3223 - val_accuracy: 0.7993\n",
            "Epoch 21/25\n",
            "272/272 [==============================] - 45s 165ms/step - loss: 0.3253 - accuracy: 0.8001 - val_loss: 0.3168 - val_accuracy: 0.8016\n",
            "Epoch 22/25\n",
            "272/272 [==============================] - 45s 166ms/step - loss: 0.3229 - accuracy: 0.8015 - val_loss: 0.3252 - val_accuracy: 0.7987\n",
            "Epoch 23/25\n",
            "272/272 [==============================] - 45s 165ms/step - loss: 0.3215 - accuracy: 0.8031 - val_loss: 0.3219 - val_accuracy: 0.7999\n",
            "Epoch 24/25\n",
            "272/272 [==============================] - 45s 164ms/step - loss: 0.3229 - accuracy: 0.8029 - val_loss: 0.3163 - val_accuracy: 0.8030\n",
            "Epoch 25/25\n",
            "272/272 [==============================] - 45s 165ms/step - loss: 0.3206 - accuracy: 0.8026 - val_loss: 0.3209 - val_accuracy: 0.7984\n"
          ]
        }
      ],
      "source": [
        "# model = Sequential()\n",
        "# model.add(Embedding(232337, 100, input_length=X_train.shape[1]))\n",
        "# model.add(SpatialDropout1D(0.2))\n",
        "# model.add(LSTM(20, dropout=0.2, recurrent_dropout=0.2))\n",
        "# model.add(Dense(3, activation='softmax'))\n",
        "# model.compile(loss='binary_crossentropy', optimizer='adam', metrics=['accuracy'])\n",
        "\n",
        "# epochs = 25\n",
        "# batch_size = 64\n",
        "\n",
        "# history = model.fit(X_train, y_train,validation_data = (X_test,y_test), epochs=epochs, batch_size=batch_size)"
      ]
    },
    {
      "cell_type": "markdown",
      "id": "28447cde",
      "metadata": {
        "id": "28447cde",
        "papermill": {
          "duration": 0.416405,
          "end_time": "2022-07-01T01:04:21.019379",
          "exception": false,
          "start_time": "2022-07-01T01:04:20.602974",
          "status": "completed"
        },
        "tags": []
      },
      "source": [
        "# Saving the LSTM Model"
      ]
    },
    {
      "cell_type": "code",
      "execution_count": 19,
      "id": "e9ad5652",
      "metadata": {
        "colab": {
          "base_uri": "https://localhost:8080/"
        },
        "execution": {
          "iopub.execute_input": "2022-07-01T01:04:21.900928Z",
          "iopub.status.busy": "2022-07-01T01:04:21.900569Z",
          "iopub.status.idle": "2022-07-01T01:04:22.441055Z",
          "shell.execute_reply": "2022-07-01T01:04:22.440243Z"
        },
        "id": "e9ad5652",
        "outputId": "840afbe2-78ac-4a5b-e602-1b09a88184cb",
        "papermill": {
          "duration": 0.955905,
          "end_time": "2022-07-01T01:04:22.443221",
          "exception": false,
          "start_time": "2022-07-01T01:04:21.487316",
          "status": "completed"
        },
        "tags": []
      },
      "outputs": [
        {
          "name": "stderr",
          "output_type": "stream",
          "text": [
            "c:\\Users\\USER\\AppData\\Local\\Programs\\Python\\Python310\\lib\\site-packages\\keras\\src\\engine\\training.py:3000: UserWarning: You are saving your model as an HDF5 file via `model.save()`. This file format is considered legacy. We recommend using instead the native Keras format, e.g. `model.save('my_model.keras')`.\n",
            "  saving_api.save_model(\n"
          ]
        }
      ],
      "source": [
        "# model.save('lstm.h5')"
      ]
    },
    {
      "cell_type": "markdown",
      "id": "28447cde",
      "metadata": {
        "id": "28447cde",
        "papermill": {
          "duration": 0.416405,
          "end_time": "2022-07-01T01:04:21.019379",
          "exception": false,
          "start_time": "2022-07-01T01:04:20.602974",
          "status": "completed"
        },
        "tags": []
      },
      "source": [
        "# Loading the LSTM Model"
      ]
    },
    {
      "cell_type": "code",
      "execution_count": 12,
      "id": "10568f36",
      "metadata": {},
      "outputs": [],
      "source": [
        "from keras.models import load_model\n",
        "\n",
        "loaded_model = load_model('lstm.h5')"
      ]
    },
    {
      "cell_type": "markdown",
      "id": "28447cde",
      "metadata": {
        "id": "28447cde",
        "papermill": {
          "duration": 0.416405,
          "end_time": "2022-07-01T01:04:21.019379",
          "exception": false,
          "start_time": "2022-07-01T01:04:20.602974",
          "status": "completed"
        },
        "tags": []
      },
      "source": [
        "# Prediction"
      ]
    },
    {
      "cell_type": "code",
      "execution_count": 25,
      "id": "338b9ef1",
      "metadata": {},
      "outputs": [
        {
          "name": "stdout",
          "output_type": "stream",
          "text": [
            "1/1 [==============================] - 0s 18ms/step\n",
            "Predicted Class: [[0.02518461 0.8621576  0.11265778]]\n"
          ]
        }
      ],
      "source": [
        "# Function to preprocess text for prediction\n",
        "def preprocess_text(text):\n",
        "    # Lowercase the text\n",
        "    text = text.lower()\n",
        "    # Remove punctuation\n",
        "    text = ''.join([char for char in text if char not in '?:!.,;'])\n",
        "    # Remove stop words\n",
        "    stop_words = set(stopwords.words('english'))\n",
        "    text = ' '.join([word for word in text.split() if word not in stop_words])\n",
        "    return text\n",
        "\n",
        "\n",
        "# Example text for prediction\n",
        "new_text = \"I hate University\"\n",
        "\n",
        "# Preprocess the text\n",
        "preprocessed_text = preprocess_text(new_text)\n",
        "\n",
        "# Tokenize the preprocessed text using the same CountVectorizer used during training\n",
        "tokenized_text = cv.transform([preprocessed_text]).toarray()\n",
        "\n",
        "# Make predictions using the loaded LSTM model\n",
        "predictions = loaded_model.predict(tokenized_text)\n",
        "\n",
        "# Convert the predictions to class labels\n",
        "# predicted_class = np.argmax(predictions, axis=1)\n",
        "\n",
        "# Print the predicted class\n",
        "print(\"Predicted Class:\", predictions)\n"
      ]
    }
  ],
  "metadata": {
    "colab": {
      "include_colab_link": true,
      "provenance": []
    },
    "kernelspec": {
      "display_name": "Python 3.10.7 64-bit",
      "language": "python",
      "name": "python3"
    },
    "language_info": {
      "codemirror_mode": {
        "name": "ipython",
        "version": 3
      },
      "file_extension": ".py",
      "mimetype": "text/x-python",
      "name": "python",
      "nbconvert_exporter": "python",
      "pygments_lexer": "ipython3",
      "version": "3.10.7"
    },
    "papermill": {
      "default_parameters": {},
      "duration": 2287.320086,
      "end_time": "2022-07-01T01:04:26.432752",
      "environment_variables": {},
      "exception": null,
      "input_path": "__notebook__.ipynb",
      "output_path": "__notebook__.ipynb",
      "parameters": {},
      "start_time": "2022-07-01T00:26:19.112666",
      "version": "2.3.4"
    },
    "vscode": {
      "interpreter": {
        "hash": "df95319d8ce4e1d89f5365ae10992bc1f65da593082b1d264e8f529830ec2f02"
      }
    }
  },
  "nbformat": 4,
  "nbformat_minor": 5
}
